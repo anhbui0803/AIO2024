{
  "cells": [
    {
      "cell_type": "markdown",
      "metadata": {
        "id": "EAgSCNyrW0xi"
      },
      "source": [
        "# **1.5. Matrix inverse**"
      ]
    },
    {
      "cell_type": "markdown",
      "metadata": {
        "id": "HpHLjHu7W9iu"
      },
      "source": [
        "**Cho**\n",
        "$\\mathbf{A} = \\begin{bmatrix}\n",
        "            -2 & 6 \\\\\n",
        "            8 & -4\n",
        "            \\end{bmatrix}\n",
        "$\n",
        ". Tìm $\\mathbf{A}^{-1}$."
      ]
    },
    {
      "cell_type": "markdown",
      "metadata": {
        "id": "25lSK3tEXvS5"
      },
      "source": [
        "## **Bước 1:** Tìm $det(\\text{A})$"
      ]
    },
    {
      "cell_type": "markdown",
      "metadata": {
        "id": "tvA_end1YO7g"
      },
      "source": [
        "$$det(\\mathbf{A}) = (-2 \\times -4) - (8 \\times 6) = -40$$"
      ]
    },
    {
      "cell_type": "markdown",
      "metadata": {
        "id": "lEX4PYlsfQmK"
      },
      "source": [
        "## **Step 2:** Tìm $\\text{A}^{-1}$"
      ]
    },
    {
      "cell_type": "markdown",
      "metadata": {
        "id": "YoNO4QAvfU1u"
      },
      "source": [
        "\\begin{equation*}\n",
        "\\mathbf{A}^{-1} = \\frac{1}{-40} \\times \\begin{bmatrix}\n",
        "                                        -4 & -6 \\\\\n",
        "                                        -8 & -2\n",
        "                                      \\end{bmatrix}\n",
        "                                      = \\begin{bmatrix}\n",
        "                                          0.1 & 0.15 \\\\\n",
        "                                          0.2 & 0.05\n",
        "                                        \\end{bmatrix}\n",
        "\\end{equation*}"
      ]
    },
    {
      "cell_type": "markdown",
      "metadata": {
        "id": "NYpm4D5dhW2x"
      },
      "source": [
        "# **2.1. Eigenvector and eigenvalue**"
      ]
    },
    {
      "cell_type": "markdown",
      "metadata": {
        "id": "BPySLU0VhbPS"
      },
      "source": [
        "**Cho**\n",
        "$\\mathbf{A} = \\begin{bmatrix}\n",
        "            0.9 & 0.2 \\\\\n",
        "            0.1 & 0.8\n",
        "            \\end{bmatrix}\n",
        "$\n",
        ". Tìm $\\text{Eigenvector}(\\mathbf{v})$ đã được normalize và eigenvalue $\\lambda$ của $\\mathbf{A}$."
      ]
    },
    {
      "cell_type": "markdown",
      "metadata": {
        "id": "bGkeD8LriE9n"
      },
      "source": [
        "## **Bước 1:** Tìm eigenvalue $\\lambda$ của $\\mathbf{A}$"
      ]
    },
    {
      "cell_type": "markdown",
      "metadata": {
        "id": "uAYcALP9iYOo"
      },
      "source": [
        "\\begin{align*}\n",
        "    & \\hspace{3cm} det(\\mathbf{A} - \\lambda \\mathbf{I}) &= 0 \\\\\n",
        "    & ⇔ ~~~ det \\left(  \n",
        "        \\begin{bmatrix}\n",
        "        0.9 - \\lambda & 0.2 \\\\\n",
        "        0.1 & 0.8 - \\lambda\n",
        "        \\end{bmatrix} \\right) &= 0 \\\\\n",
        "    & ⇔ ~~~~~~~~~~~~~ \\lambda^2 - 1.7\\lambda + 0.7 &= 0 \\\\\n",
        "    & ⇔ ~~~~~~~~~~~~~~~~~~~~ \\left[\n",
        "                            \\begin{array}{ll}\n",
        "                                \\lambda = 1  \\\\\n",
        "                                \\lambda = 0.7\n",
        "                            \\end{array}\n",
        "                            \\right .\n",
        "\\end{align*}"
      ]
    },
    {
      "cell_type": "markdown",
      "metadata": {
        "id": "XabSuQMnpMSm"
      },
      "source": [
        "## **Bước 2:** Tìm eigenvector $\\mathbf{v}$"
      ]
    },
    {
      "cell_type": "markdown",
      "metadata": {
        "id": "2wcZlv22pRi-"
      },
      "source": [
        "- **Với** $\\lambda = 1$:\n",
        "\n",
        "\\begin{align*}\n",
        "    & \\hspace{4cm} (\\mathbf{A} - \\lambda \\mathbf{I}) \\mathbf{v} = 0 \\\\\n",
        "    & ⇒ \\begin{bmatrix}\n",
        "        -0.1 & 0.2 &|~ 0 \\\\\n",
        "        0.1 & -0.2 &|~ 0\n",
        "        \\end{bmatrix} \\xrightarrow{r_{1} + r_{2} \\to r_{2}}\n",
        "        \\begin{bmatrix}\n",
        "        -0.1 & 0.2 &|~ 0 \\\\\n",
        "        0 & 0 &|~ 0\n",
        "        \\end{bmatrix} \\\\\n",
        "    & ⇒ \\hspace{3cm} \\begin{cases}\n",
        "        -x_1 + 2 \\cdot x_2 = 0\n",
        "        \\end{cases} \\\\\n",
        "    & ⇒ \\hspace{4cm} x_1 = 2 \\cdot x_2\n",
        "\\end{align*}\n",
        "\n",
        "$\n",
        "\\text{Solution:} \\hspace{3mm} \\mathbf{v} = x_2 \\times \\begin{bmatrix}\n",
        "                                                        2 \\\\\n",
        "                                                        1\n",
        "                                                        \\end{bmatrix} \n",
        "$\n",
        "\n",
        "$\n",
        "\\text{Let } x_2 = 1 ⇒ \\hspace{3mm} \\mathbf{v} =  \\begin{bmatrix}\n",
        "                                                2 \\\\\n",
        "                                                1\n",
        "                                                \\end{bmatrix}\n",
        "$\n",
        "\n",
        "$\n",
        "\\displaystyle \\text{Normalize vector } \\mathbf{v}: \\hspace{3mm} \\frac{\\mathbf{v}}{||\\mathbf{v}||} = \\begin{bmatrix}\n",
        "    \\frac{2}{\\sqrt{5}} \\\\\n",
        "    \\\\\n",
        "    \\frac{1}{\\sqrt{5}}\n",
        "\\end{bmatrix} \\\\\n",
        "$"
      ]
    },
    {
      "cell_type": "markdown",
      "metadata": {
        "id": "URjL1_P3zVmf"
      },
      "source": [
        "- **Với** $\\lambda = 0.7$:\n",
        "\n",
        "\\begin{align*}\n",
        "    & \\hspace{4cm} (\\mathbf{A} - \\lambda \\mathbf{I}) \\mathbf{v} = 0 \\\\\n",
        "    & ⇒ \\begin{bmatrix}\n",
        "        0.2 & 0.2 &|~ 0 \\\\\n",
        "        0.1 & 0.1 &|~ 0\n",
        "        \\end{bmatrix} \\xrightarrow{r_{1} - 2 \\cdot r_{2} \\to r_{2}}\n",
        "        \\begin{bmatrix}\n",
        "        0.2 & 0.2 &|~ 0 \\\\\n",
        "        0 & 0 &|~ 0\n",
        "        \\end{bmatrix} \\\\\n",
        "    & ⇒ \\hspace{3cm} \\begin{cases}\n",
        "        -x_1 + x_2 = 0\n",
        "        \\end{cases} \\\\\n",
        "    & ⇒ \\hspace{4cm} x_1 = -x_2\n",
        "\\end{align*}\n",
        "\n",
        "$\n",
        "\\text{Solution:} \\hspace{3mm} \\mathbf{v} = x_2 \\times \\begin{bmatrix}\n",
        "                                                        -1 \\\\\n",
        "                                                        1\n",
        "                                                        \\end{bmatrix} \n",
        "$\n",
        "\n",
        "$\n",
        "\\text{Let } x_2 = 1 ⇒ \\hspace{3mm} \\mathbf{v} =  \\begin{bmatrix}\n",
        "                                                -1 \\\\\n",
        "                                                1\n",
        "                                                \\end{bmatrix}\n",
        "$\n",
        "\n",
        "$\n",
        "\\displaystyle \\text{Normalize vector } \\mathbf{v}: \\hspace{3mm} \\frac{\\mathbf{v}}{||\\mathbf{v}||} = \\begin{bmatrix}\n",
        "    \\frac{-1}{\\sqrt{2}} \\\\\n",
        "                        \\\\\n",
        "    \\frac{1}{\\sqrt{2}}\n",
        "\\end{bmatrix} \\\\\n",
        "$"
      ]
    },
    {
      "cell_type": "markdown",
      "metadata": {
        "id": "HclYF0dcdr3E"
      },
      "source": [
        "# **3.1. Cosine similarity**"
      ]
    },
    {
      "cell_type": "markdown",
      "metadata": {
        "id": "Zo2WC4FSd1kK"
      },
      "source": [
        "**Cho** $\\mathbf{x} = \\begin{bmatrix}\n",
        "                    1 \\\\\n",
        "                    2 \\\\\n",
        "                    3 \\\\\n",
        "                    4\n",
        "                    \\end{bmatrix},\n",
        "\\hspace{3mm} \\mathbf{y} = \\begin{bmatrix}\n",
        "                    1 \\\\\n",
        "                    0 \\\\\n",
        "                    3 \\\\\n",
        "                    0\n",
        "                    \\end{bmatrix}\n",
        "$. Tìm Cosine similarity $\\text{cs}(\\mathbf{x}, \\mathbf{y})$."
      ]
    },
    {
      "cell_type": "markdown",
      "metadata": {
        "id": "DM_W9iG1fIxL"
      },
      "source": [
        "## **Bước 1:** Tìm $\\mathbf{x} \\cdot \\mathbf{y}$ $, ~ ||\\mathbf{x}||,$ $~||\\mathbf{y}||$"
      ]
    },
    {
      "cell_type": "markdown",
      "metadata": {
        "id": "gQ-Bjrwmf3h_"
      },
      "source": [
        "\\begin{cases}\n",
        "    \\begin{align*}\n",
        "    \\mathbf{x} \\cdot \\mathbf{y} &= 1 \\times 1 + 2 \\times 0 + 3 \\times 3 + 4 \\times 0 = 10\\\\\n",
        "    ||\\mathbf{x}|| &= \\sqrt{1^2 + 2^2 + 3^2 + 4^2} = \\sqrt{30}\\\\\n",
        "    ||\\mathbf{y}|| &= \\sqrt{1^2 + 3^2} = \\sqrt{10}\\\\\n",
        "    \\end{align*}\n",
        "\\end{cases}"
      ]
    },
    {
      "cell_type": "markdown",
      "metadata": {
        "id": "-2oIbsNofyaW"
      },
      "source": [
        "## **Bước 2:** Tìm Cosine similarity"
      ]
    },
    {
      "cell_type": "markdown",
      "metadata": {
        "id": "NSMM4Keleihx"
      },
      "source": [
        "$$\\text{cs}(\\mathbf{x}, \\mathbf{y}) = \\frac{\\mathbf{x} \\cdot \\mathbf{y}}{||\\mathbf{x}|| \\cdot ||\\mathbf{y}||} = \\frac{10}{\\sqrt{30} \\cdot \\sqrt{10}} ≈ 0.577$$"
      ]
    }
  ],
  "metadata": {
    "colab": {
      "provenance": []
    },
    "kernelspec": {
      "display_name": "Python 3",
      "name": "python3"
    },
    "language_info": {
      "name": "python"
    }
  },
  "nbformat": 4,
  "nbformat_minor": 0
}
